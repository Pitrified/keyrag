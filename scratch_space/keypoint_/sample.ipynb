{
 "cells": [
  {
   "cell_type": "markdown",
   "metadata": {},
   "source": [
    "# Sample use of a Keypointer\n"
   ]
  },
  {
   "cell_type": "code",
   "execution_count": null,
   "metadata": {},
   "outputs": [],
   "source": [
    "%load_ext autoreload\n",
    "%autoreload 2"
   ]
  },
  {
   "cell_type": "code",
   "execution_count": null,
   "metadata": {},
   "outputs": [],
   "source": [
    "from keyrag.keypoint.keypointer import Keypointer\n",
    "from keyrag.keypoint.openai_chat_config import OPENAI_CHAT_CONFIG_DEFAULT"
   ]
  },
  {
   "cell_type": "code",
   "execution_count": null,
   "metadata": {},
   "outputs": [],
   "source": [
    "text = \"\"\"The rapid growth of artificial intelligence (AI) is transforming industries worldwide.\n",
    "AI technologies, such as machine learning and natural language processing, enable automation of complex tasks, improving efficiency and accuracy.\n",
    "However, ethical considerations, including data privacy and algorithmic bias, remain significant challenges.\n",
    "Policymakers and organizations must work together to establish guidelines for responsible AI development.\n",
    "Moreover, investment in AI education and skill development is crucial to prepare the workforce for future demands.\n",
    "\"\"\""
   ]
  },
  {
   "cell_type": "code",
   "execution_count": null,
   "metadata": {},
   "outputs": [],
   "source": [
    "keypointer = Keypointer(OPENAI_CHAT_CONFIG_DEFAULT)\n",
    "keypoints = keypointer.invoke(text)"
   ]
  },
  {
   "cell_type": "code",
   "execution_count": null,
   "metadata": {},
   "outputs": [],
   "source": [
    "for kp in keypoints.keypoints:\n",
    "    print(kp)"
   ]
  }
 ],
 "metadata": {
  "kernelspec": {
   "display_name": "keyrag-CYh6AJFd-py3.11",
   "language": "python",
   "name": "python3"
  },
  "language_info": {
   "codemirror_mode": {
    "name": "ipython",
    "version": 3
   },
   "file_extension": ".py",
   "mimetype": "text/x-python",
   "name": "python",
   "nbconvert_exporter": "python",
   "pygments_lexer": "ipython3",
   "version": "3.11.10"
  }
 },
 "nbformat": 4,
 "nbformat_minor": 2
}
