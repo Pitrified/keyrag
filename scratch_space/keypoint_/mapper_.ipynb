{
 "cells": [
  {
   "cell_type": "markdown",
   "metadata": {},
   "source": [
    "# Sample use of the mapper module\n"
   ]
  },
  {
   "cell_type": "code",
   "execution_count": null,
   "metadata": {},
   "outputs": [],
   "source": [
    "%load_ext autoreload\n",
    "%autoreload 2"
   ]
  },
  {
   "cell_type": "code",
   "execution_count": null,
   "metadata": {},
   "outputs": [],
   "source": [
    "from keyrag.config.keyrag_config import get_keyrag_paths\n",
    "\n",
    "\n",
    "kp = get_keyrag_paths()"
   ]
  },
  {
   "cell_type": "code",
   "execution_count": null,
   "metadata": {},
   "outputs": [],
   "source": [
    "from keyrag.keypoint.mapper import Mapper\n",
    "\n",
    "\n",
    "mapper = Mapper(kp.mapper_fol)"
   ]
  },
  {
   "cell_type": "code",
   "execution_count": null,
   "metadata": {},
   "outputs": [],
   "source": [
    "mapper.add_pair(\"d1\", \"k1\", 1)\n",
    "mapper.add_pair(\"d1\", \"k2\", 2)\n",
    "mapper.add_pair(\"d1\", \"k3\", 3)\n",
    "mapper.add_pair(\"d2\", \"k1\", 2)"
   ]
  },
  {
   "cell_type": "code",
   "execution_count": null,
   "metadata": {},
   "outputs": [],
   "source": [
    "mapper.get_similar_docs(\"k1\", 2)"
   ]
  }
 ],
 "metadata": {
  "kernelspec": {
   "display_name": "keyrag-CYh6AJFd-py3.11",
   "language": "python",
   "name": "python3"
  },
  "language_info": {
   "codemirror_mode": {
    "name": "ipython",
    "version": 3
   },
   "file_extension": ".py",
   "mimetype": "text/x-python",
   "name": "python",
   "nbconvert_exporter": "python",
   "pygments_lexer": "ipython3",
   "version": "3.11.11"
  }
 },
 "nbformat": 4,
 "nbformat_minor": 2
}
