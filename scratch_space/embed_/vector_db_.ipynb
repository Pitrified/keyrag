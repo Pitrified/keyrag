{
 "cells": [
  {
   "cell_type": "markdown",
   "metadata": {},
   "source": [
    "# Sample use of the vector db\n"
   ]
  },
  {
   "cell_type": "code",
   "execution_count": null,
   "metadata": {},
   "outputs": [],
   "source": [
    "%load_ext autoreload\n",
    "%autoreload 2"
   ]
  },
  {
   "cell_type": "code",
   "execution_count": null,
   "metadata": {},
   "outputs": [],
   "source": [
    "from langchain_core.documents import Document\n",
    "\n",
    "from keyrag.embed.openai_embeddings_config import OPENAI_EMBEDDINGS_CONFIG_DEFAULT\n",
    "from keyrag.embed.vector_db import VectorDB"
   ]
  },
  {
   "cell_type": "code",
   "execution_count": null,
   "metadata": {},
   "outputs": [],
   "source": [
    "ef = OPENAI_EMBEDDINGS_CONFIG_DEFAULT.to_embeddings()\n",
    "vdb = VectorDB(embedding_function=ef)"
   ]
  },
  {
   "cell_type": "code",
   "execution_count": null,
   "metadata": {},
   "outputs": [],
   "source": [
    "strs = [\n",
    "    \"The quick brown fox jumps over the lazy dog\",\n",
    "    \"Sphinx of black quartz, judge my vow\",\n",
    "    \"She sells seashells by the seashore\",\n",
    "    \"Black background with white text\",\n",
    "]\n",
    "docs = [Document(s) for s in strs]"
   ]
  },
  {
   "cell_type": "code",
   "execution_count": null,
   "metadata": {},
   "outputs": [],
   "source": [
    "vdb.add_documents(docs)"
   ]
  },
  {
   "cell_type": "code",
   "execution_count": null,
   "metadata": {},
   "outputs": [],
   "source": [
    "vdb.get()"
   ]
  }
 ],
 "metadata": {
  "kernelspec": {
   "display_name": "keyrag-CYh6AJFd-py3.11",
   "language": "python",
   "name": "python3"
  },
  "language_info": {
   "codemirror_mode": {
    "name": "ipython",
    "version": 3
   },
   "file_extension": ".py",
   "mimetype": "text/x-python",
   "name": "python",
   "nbconvert_exporter": "python",
   "pygments_lexer": "ipython3",
   "version": "3.11.10"
  }
 },
 "nbformat": 4,
 "nbformat_minor": 2
}
